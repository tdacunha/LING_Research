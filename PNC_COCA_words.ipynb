{
 "cells": [
  {
   "cell_type": "markdown",
   "metadata": {},
   "source": [
    "# Making array with coca word, coca count, pnc count, indices, f1"
   ]
  },
  {
   "cell_type": "code",
   "execution_count": 69,
   "metadata": {},
   "outputs": [
    {
     "name": "stdout",
     "output_type": "stream",
     "text": [
      "PNC length: 896\n",
      "[['afternoon' '33129' '0' '0' '0']\n",
      " ['in' '7924726' '4' '[273, 364, 446, 494]'\n",
      "  \"['442.5', '656.2', '496.6', '452']\"]\n",
      " ['late' '83875' '0' '0' '0']\n",
      " ['july' '38955' '0' '0' '0']\n",
      " ['the' '23782976' '6' '[80, 274, 315, 322, 385, 873]'\n",
      "  \"['603.5', '425.4', '437.7', '427.6', '457.4', '511.1']\"]\n",
      " ['children' '216374' '0' '0' '0']\n",
      " ['were' '1145002' '7' '[284, 288, 292, 382, 408, 530, 655]'\n",
      "  \"['500.4', '429.7', '481.8', '513.5', '521.6', '576.5', '473.2']\"]\n",
      " ['angry' '22693' '0' '0' '0']\n",
      " ['because' '561674' '1' '[327]' \"['544.1']\"]\n",
      " ['while' '287334' '0' '0' '0']]\n"
     ]
    }
   ],
   "source": [
    "import csv\n",
    "import numpy as np\n",
    "import ast\n",
    "pnc_file = open('/Users/TaraD/Downloads/data-for-tara/head-refaved_PNCvowels_master_corrected_shorta.csv', newline='')\n",
    "data = np.array(list(csv.reader(pnc_file)))\n",
    "#print(np.array(data))\n",
    "pnc_words = (data[1:,11])\n",
    "pnc_vowel_freqs = (data[1:,13]) #CAN CHANGE TO DIFFERENT FREQUENCY COLUMN\n",
    "for i in range(len(pnc_words)):\n",
    "    pnc_words[i] = pnc_words[i].lower()\n",
    "    \n",
    "print(\"PNC length:\", len(pnc_words))\n",
    "COCA_words = open('/Users/TaraD/LING_Research/dict_COCA_txt3.txt', 'r')\n",
    "COCA_list = COCA_words.readlines()\n",
    "#print(COCA_list[0:10])\n",
    "PNCinCOCA = []\n",
    "count = 0\n",
    "#print(pnc_words)\n",
    "for line in COCA_list:\n",
    "    if line != '\\n'and count < 10:\n",
    "        count+=1\n",
    "        array = line.split(':')\n",
    "        word = array[0][:-1]\n",
    "        number = (array[1].replace('\\n',''))[1:]\n",
    "        line_list = [word, number]\n",
    "        \n",
    "        indices = (np.where(pnc_words==word))[0] #array?\n",
    "        #print(indices,len(indices))\n",
    "        #print(list(pnc_words).index(word))\n",
    "        pnc_count = list(pnc_words).count(word)\n",
    "        \n",
    "        line_list.append(pnc_count)\n",
    "        if pnc_count ==0:\n",
    "            line_list.append(str(0))\n",
    "            line_list.append(str(0))\n",
    "        else:\n",
    "            line_list.append(str(list(indices)))\n",
    "            f1 = (pnc_vowel_freqs[indices])\n",
    "            line_list.append((str(list(f1))))\n",
    "        \n",
    "        #print(line_list)\n",
    "        PNCinCOCA.append(line_list)\n",
    "        #if word in list(pnc_words):\n",
    "            #print('yes')\n",
    "        #print(list(pnc_words).count('six'))\n",
    "PNCinCOCA = np.array(PNCinCOCA)\n",
    "print(PNCinCOCA)\n",
    "\n",
    "#HOW TO TAKE STRING OF INDICES AND TURN BACK INTO LIST OF INDICES\n",
    "#string_indices = ((PNCinCOCA[1,3]))\n",
    "#list_indices=(ast.literal_eval(string_indices))\n"
   ]
  },
  {
   "cell_type": "markdown",
   "metadata": {},
   "source": [
    "# Making array with coca word, count, pnc count"
   ]
  },
  {
   "cell_type": "code",
   "execution_count": 2,
   "metadata": {},
   "outputs": [
    {
     "name": "stdout",
     "output_type": "stream",
     "text": [
      "PNC length: 896\n",
      "[['afternoon' '33129' '0']\n",
      " ['in' '7924726' '4']\n",
      " ['late' '83875' '0']\n",
      " ...\n",
      " ['tejeta' '2' '0']\n",
      " ['brionka' '1' '0']\n",
      " ['jnbaptiste' '2' '0']]\n"
     ]
    }
   ],
   "source": [
    "import csv\n",
    "import numpy as np\n",
    "pnc_file = open('/Users/TaraD/Downloads/data-for-tara/head-refaved_PNCvowels_master_corrected_shorta.csv', newline='')\n",
    "data = np.array(list(csv.reader(pnc_file)))\n",
    "#print(np.array(data))\n",
    "pnc_words = (data[1:,11])\n",
    "for i in range(len(pnc_words)):\n",
    "    pnc_words[i] = pnc_words[i].lower()\n",
    "    \n",
    "print(\"PNC length:\", len(pnc_words))\n",
    "COCA_words = open('/Users/TaraD/LING_Research/dict_COCA_txt3.txt', 'r')\n",
    "COCA_list = COCA_words.readlines()\n",
    "#print(COCA_list[0:10])\n",
    "PNCinCOCA = []\n",
    "count = 0\n",
    "#print(pnc_words)\n",
    "for line in COCA_list:\n",
    "    if line != '\\n':#and count < 20:\n",
    "        count+=1\n",
    "        array = line.split(':')\n",
    "        word = array[0][:-1]\n",
    "        number = (array[1].replace('\\n',''))[1:]\n",
    "        line_list = [word, number]\n",
    "        pnc_count = list(pnc_words).count(word)\n",
    "        line_list.append(pnc_count)\n",
    "        PNCinCOCA.append(line_list)\n",
    "        #if word in list(pnc_words):\n",
    "            #print('yes')\n",
    "        #print(list(pnc_words).count('six'))\n",
    "PNCinCOCA = np.array(PNCinCOCA)\n",
    "print(PNCinCOCA)\n",
    "#print(COCA_words)\n"
   ]
  },
  {
   "cell_type": "code",
   "execution_count": 9,
   "metadata": {},
   "outputs": [
    {
     "name": "stdout",
     "output_type": "stream",
     "text": [
      "894\n"
     ]
    }
   ],
   "source": [
    "print(sum(map(int,(PNCinCOCA[:,2]))))"
   ]
  },
  {
   "cell_type": "code",
   "execution_count": null,
   "metadata": {},
   "outputs": [],
   "source": [
    "import pickle\n",
    "file = open('/Users/TaraD/LING_Research/dict_COCA_pkl3.pkl', 'rb')\n",
    "data = pickle.load(file)\n",
    "file.close()\n",
    "print(len(data))\n",
    "\n",
    "c = 0\n",
    "for item in data:\n",
    "    if c <20:\n",
    "        print(item)\n",
    "        c += 1\n",
    "    else:\n",
    "        break\n",
    "    \n"
   ]
  },
  {
   "cell_type": "code",
   "execution_count": null,
   "metadata": {},
   "outputs": [],
   "source": []
  }
 ],
 "metadata": {
  "kernelspec": {
   "display_name": "Python 3",
   "language": "python",
   "name": "python3"
  },
  "language_info": {
   "codemirror_mode": {
    "name": "ipython",
    "version": 3
   },
   "file_extension": ".py",
   "mimetype": "text/x-python",
   "name": "python",
   "nbconvert_exporter": "python",
   "pygments_lexer": "ipython3",
   "version": "3.7.1"
  }
 },
 "nbformat": 4,
 "nbformat_minor": 2
}
